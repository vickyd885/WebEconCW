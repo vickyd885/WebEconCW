{
 "cells": [
  {
   "cell_type": "markdown",
   "metadata": {},
   "source": [
    "# Bidding Models "
   ]
  },
  {
   "cell_type": "code",
   "execution_count": null,
   "metadata": {},
   "outputs": [],
   "source": [
    "# Importing libaries & datasets \n",
    "\n",
    "import sys\n",
    "import os\n",
    "\n",
    "import pandas as pd\n",
    "import numpy as np\n",
    "import matplotlib.pyplot as plt\n",
    "\n",
    "# Datasets\n",
    "validate_data = pd.read_csv(\"datasets/validation.csv\")\n",
    "training_data = pd.read_csv(\"datasets/small_train.csv\")\n",
    "testing_data = pd.read_csv(\"datasets/small_test.csv\")\n"
   ]
  },
  {
   "cell_type": "markdown",
   "metadata": {},
   "source": [
    "## Constant Bidding "
   ]
  },
  {
   "cell_type": "code",
   "execution_count": null,
   "metadata": {},
   "outputs": [],
   "source": [
    "def constant_bidding(const):\n",
    "    impressions = 0\n",
    "    clicks = 0\n",
    "    cost = 0\n",
    "    budget = 6250000\n",
    "\n",
    "    for index, row in validate_data.iterrows():\n",
    "        # Don't exceed budget\n",
    "        if cost >= budget:\n",
    "        # print(\"Elapsed budget\")\n",
    "            break\n",
    "            \n",
    "        if const > row['payprice']:\n",
    "            impressions += 1\n",
    "            clicks += row['click']\n",
    "            cost += row['payprice']\n",
    "\n",
    "\n",
    "    return impressions, cost, clicks\n",
    "\n",
    "num_valid_impressions = validate_data.shape[0]\n",
    "\n",
    "min_value = validate_data['payprice'].min()\n",
    "if min_value % 2 == 1:\n",
    "    min_value = min_value - 1\n",
    "\n",
    "max_value = validate_data['bidprice'].max()\n",
    "\n",
    "results = pd.DataFrame()\n",
    "results['constants'] = np.arange(min_value, max_value, 2)\n",
    "\n",
    "impressions = []\n",
    "cost = []\n",
    "clicks = []\n",
    "\n",
    "for const in results['constants']:\n",
    "    print(const)\n",
    "    const_impressions, const_cost, const_clicks = constant_bidding(const)\n",
    "    impressions.append(const_impressions)\n",
    "    cost.append(const_cost)\n",
    "    clicks.append(const_clicks)\n",
    "\n",
    "results['impressions'] = impressions\n",
    "results['cost'] = cost\n",
    "results['clicks'] = clicks\n",
    "\n",
    "total_num_clicks = len(validate_data.groupby('click').get_group(1))\n",
    "\n",
    "results['CTR'] = (results['clicks']/results['impressions'])*100\n",
    "results['CVR'] = (results['clicks']/total_num_clicks)*100\n",
    "results['CPM'] = (results['cost']/results['impressions'])\n",
    "results['eCPC'] = (results['cost']/results['clicks'])*100 \n",
    "\n",
    "print(results)\n",
    "#results.to_csv(\"output/constant_bid_output.csv\")"
   ]
  },
  {
   "cell_type": "markdown",
   "metadata": {},
   "source": [
    "## Random Bidding"
   ]
  },
  {
   "cell_type": "code",
   "execution_count": null,
   "metadata": {},
   "outputs": [],
   "source": [
    "def random_bidding(min_bound, max_bound):\n",
    "    impressions = 0\n",
    "    cost = 0\n",
    "    clicks = 0\n",
    "    budget = 6250000\n",
    "\n",
    "    for index, row in validate_data.iterrows():\n",
    "        bid = randint(min_bound, max_bound)\n",
    "\n",
    "        # Don't exceed budget\n",
    "        if cost >= budget:\n",
    "        # print(\"Elapsed budget\")\n",
    "            break\n",
    "        if bid > row['payprice']:\n",
    "            impressions += 1\n",
    "            clicks += row['click']\n",
    "            cost += row['payprice']\n",
    "\n",
    "    return impressions, cost, clicks\n",
    "\n",
    "num_valid_impressions = validate_data.shape[0]\n",
    "\n",
    "min_value = validate_data['payprice'].min()\n",
    "if min_value % 2 == 1:\n",
    "    min_value = min_value - 1\n",
    "\n",
    "max_value = validate_data['bidprice'].max()\n",
    "\n",
    "results = pd.DataFrame()\n",
    "\n",
    "results['constants'] = np.arange(min_value, max_value, 2)\n",
    "\n",
    "impressions = []\n",
    "cost = []\n",
    "clicks = []\n",
    "\n",
    "for const in results['constants']:\n",
    "    print(const)\n",
    "    const_impressions, const_cost, const_clicks = random_bidding(min_value, const)\n",
    "    impressions.append(const_impressions)\n",
    "    cost.append(const_cost)\n",
    "    clicks.append(const_clicks)\n",
    "\n",
    "results['impressions'] = impressions\n",
    "results['cost'] = cost\n",
    "results['clicks'] = clicks\n",
    "\n",
    "total_num_clicks = len(validate_data.groupby('click').get_group(1))\n",
    "\n",
    "results['CTR'] = (results['clicks']/results['impressions'])*100\n",
    "results['CVR'] = (results['clicks']/total_num_clicks)*100\n",
    "results['CPM'] = (results['cost']/results['impressions'])\n",
    "results['eCPC'] = (results['cost']/results['clicks'])*100 \n",
    "\n",
    "print(results)\n",
    "#results.to_csv(\"random_bid_output.csv\")"
   ]
  },
  {
   "cell_type": "markdown",
   "metadata": {},
   "source": [
    "# Cleaning the dataset"
   ]
  },
  {
   "cell_type": "code",
   "execution_count": null,
   "metadata": {},
   "outputs": [],
   "source": [
    "\n",
    "fields_of_interest = ['click', 'weekday', 'hour', 'bidid', 'userid', 'useragent',\n",
    "'IP', 'region', 'city', 'adexchange', 'domain', 'url', 'urlid',\n",
    "'slotid', 'slotwidth', 'slotheight', 'slotvisibility',\n",
    "'slotformat', 'slotprice', 'creative', 'bidprice', 'payprice',\n",
    " 'keypage', 'advertiser', 'usertag']"
   ]
  }
 ],
 "metadata": {
  "kernelspec": {
   "display_name": "Python 3",
   "language": "python",
   "name": "python3"
  },
  "language_info": {
   "codemirror_mode": {
    "name": "ipython",
    "version": 3
   },
   "file_extension": ".py",
   "mimetype": "text/x-python",
   "name": "python",
   "nbconvert_exporter": "python",
   "pygments_lexer": "ipython3",
   "version": "3.6.4"
  }
 },
 "nbformat": 4,
 "nbformat_minor": 2
}
